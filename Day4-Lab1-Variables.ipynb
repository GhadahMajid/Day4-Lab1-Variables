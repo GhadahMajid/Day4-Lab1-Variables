{
 "cells": [
  {
   "cell_type": "markdown",
   "id": "64d353c0",
   "metadata": {},
   "source": [
    "# Day4-Lab1-Variables\n",
    "     Ghadah Alabduljabbar"
   ]
  },
  {
   "cell_type": "markdown",
   "id": "5bece193",
   "metadata": {},
   "source": [
    "###  Define a variable that has a value of your favourite season.\n"
   ]
  },
  {
   "cell_type": "code",
   "execution_count": 1,
   "id": "66d99053",
   "metadata": {},
   "outputs": [
    {
     "data": {
      "text/plain": [
       "'Winter'"
      ]
     },
     "execution_count": 1,
     "metadata": {},
     "output_type": "execute_result"
    }
   ],
   "source": [
    "FavSeason = \"Winter\"\n",
    "FavSeason"
   ]
  },
  {
   "cell_type": "markdown",
   "id": "9023a2ef",
   "metadata": {},
   "source": [
    "###  Define “x“ variable has an integer value and variable “y” has a float value.\n"
   ]
  },
  {
   "cell_type": "code",
   "execution_count": 2,
   "id": "f5d9e5c8",
   "metadata": {},
   "outputs": [
    {
     "data": {
      "text/plain": [
       "(22, 3.5)"
      ]
     },
     "execution_count": 2,
     "metadata": {},
     "output_type": "execute_result"
    }
   ],
   "source": [
    "x, y = 22, 3.5\n",
    "x , y"
   ]
  },
  {
   "cell_type": "markdown",
   "id": "e6262fb6",
   "metadata": {},
   "source": [
    "### Assign One Value to Multiple Variables.\n"
   ]
  },
  {
   "cell_type": "code",
   "execution_count": 3,
   "id": "c1ece0bc",
   "metadata": {},
   "outputs": [
    {
     "data": {
      "text/plain": [
       "(4, 4, 4)"
      ]
     },
     "execution_count": 3,
     "metadata": {},
     "output_type": "execute_result"
    }
   ],
   "source": [
    "z = h = g = 4\n",
    "z,h,g"
   ]
  },
  {
   "cell_type": "markdown",
   "id": "fe791dcc",
   "metadata": {},
   "source": [
    "### Assign Many Values to Multiple Variables."
   ]
  },
  {
   "cell_type": "code",
   "execution_count": 4,
   "id": "7434e81c",
   "metadata": {},
   "outputs": [
    {
     "data": {
      "text/plain": [
       "(4, 5, 6)"
      ]
     },
     "execution_count": 4,
     "metadata": {},
     "output_type": "execute_result"
    }
   ],
   "source": [
    "z, h, g = 4,5,6\n",
    "z,h,g"
   ]
  }
 ],
 "metadata": {
  "kernelspec": {
   "display_name": "Python 3 (ipykernel)",
   "language": "python",
   "name": "python3"
  },
  "language_info": {
   "codemirror_mode": {
    "name": "ipython",
    "version": 3
   },
   "file_extension": ".py",
   "mimetype": "text/x-python",
   "name": "python",
   "nbconvert_exporter": "python",
   "pygments_lexer": "ipython3",
   "version": "3.9.7"
  }
 },
 "nbformat": 4,
 "nbformat_minor": 5
}
